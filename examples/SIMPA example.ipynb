{
 "cells": [
  {
   "cell_type": "markdown",
   "metadata": {},
   "source": [
    "after making a new environment, the kernel should preferablly be python 3.11.9\n",
    "\n",
    "Then we can install SIMPApy"
   ]
  },
  {
   "cell_type": "code",
   "execution_count": null,
   "metadata": {},
   "outputs": [],
   "source": [
    "!pip install SIMPApy"
   ]
  },
  {
   "cell_type": "markdown",
   "metadata": {},
   "source": [
    "# import packages"
   ]
  },
  {
   "cell_type": "code",
   "execution_count": 1,
   "metadata": {},
   "outputs": [],
   "source": [
    "import pandas as pd\n",
    "import numpy as np\n",
    "import glob\n",
    "import os\n",
    "import gseapy as gp\n",
    "import ipywidgets\n",
    "import SIMPApy as sp"
   ]
  },
  {
   "cell_type": "markdown",
   "metadata": {},
   "source": [
    "# load dataframes"
   ]
  },
  {
   "cell_type": "code",
   "execution_count": null,
   "metadata": {},
   "outputs": [],
   "source": [
    "hallmark = r\"\\data\\h.all.v2023.1.Hs.symbols.gmt\" # gene set to be used (here HALLMARK from MSigDB). Larger gene sets increase processing time."
   ]
  },
  {
   "cell_type": "code",
   "execution_count": null,
   "metadata": {},
   "outputs": [],
   "source": [
    "rna = pd.read_csv(r'\\data\\rna.csv', index_col=0)\n",
    "cnv = pd.read_csv(r'\\data\\cn.csv', index_col=0)\n",
    "meth = pd.read_csv(r'\\data\\meth.csv', index_col=0)\n",
    "dna = pd.read_csv(r'\\data\\dna.csv', index_col=0)"
   ]
  },
  {
   "cell_type": "markdown",
   "metadata": {},
   "source": [
    "# calculate rankings"
   ]
  },
  {
   "cell_type": "code",
   "execution_count": 4,
   "metadata": {},
   "outputs": [],
   "source": [
    "rnaranks = sp.calculate_ranking(rna, omic='rna')"
   ]
  },
  {
   "cell_type": "code",
   "execution_count": 5,
   "metadata": {},
   "outputs": [],
   "source": [
    "cnvranks = sp.calculate_ranking(cnv, omic='cnv')"
   ]
  },
  {
   "cell_type": "code",
   "execution_count": 6,
   "metadata": {},
   "outputs": [],
   "source": [
    "dnaranks = sp.calculate_ranking(dna, omic='dnam')"
   ]
  },
  {
   "cell_type": "markdown",
   "metadata": {},
   "source": [
    "then concatenate dataframes"
   ]
  },
  {
   "cell_type": "code",
   "execution_count": 7,
   "metadata": {},
   "outputs": [],
   "source": [
    "rnarankdf = pd.concat({k: v['weighted'] for k, v in rnaranks.items()}, axis=1)"
   ]
  },
  {
   "cell_type": "code",
   "execution_count": 8,
   "metadata": {},
   "outputs": [],
   "source": [
    "cnvrankdf = pd.concat({k: v['adjusted_weight'] for k, v in cnvranks.items()}, axis=1)"
   ]
  },
  {
   "cell_type": "code",
   "execution_count": 9,
   "metadata": {},
   "outputs": [],
   "source": [
    "dnarankdf = pd.concat({k: v['weighted'] for k, v in dnaranks.items()}, axis=1)"
   ]
  },
  {
   "cell_type": "markdown",
   "metadata": {},
   "source": [
    "# SOPA"
   ]
  },
  {
   "cell_type": "code",
   "execution_count": null,
   "metadata": {},
   "outputs": [
    {
     "name": "stderr",
     "output_type": "stream",
     "text": [
      "2025-03-01 12:52:31,658 [WARNING] Duplicated values found in preranked stats: 0.70% of genes\n",
      "The order of those genes will be arbitrary, which may produce unexpected results.\n",
      "2025-03-01 12:52:33,067 [WARNING] Duplicated values found in preranked stats: 0.78% of genes\n",
      "The order of those genes will be arbitrary, which may produce unexpected results.\n",
      "2025-03-01 12:52:34,585 [WARNING] Duplicated values found in preranked stats: 0.72% of genes\n",
      "The order of those genes will be arbitrary, which may produce unexpected results.\n",
      "2025-03-01 12:52:36,166 [WARNING] Duplicated values found in preranked stats: 0.72% of genes\n",
      "The order of those genes will be arbitrary, which may produce unexpected results.\n",
      "2025-03-01 12:52:37,864 [WARNING] Duplicated values found in preranked stats: 0.74% of genes\n",
      "The order of those genes will be arbitrary, which may produce unexpected results.\n",
      "2025-03-01 12:52:39,663 [WARNING] Duplicated values found in preranked stats: 0.77% of genes\n",
      "The order of those genes will be arbitrary, which may produce unexpected results.\n",
      "2025-03-01 12:52:41,657 [WARNING] Duplicated values found in preranked stats: 0.73% of genes\n",
      "The order of those genes will be arbitrary, which may produce unexpected results.\n",
      "2025-03-01 12:52:43,693 [WARNING] Duplicated values found in preranked stats: 0.56% of genes\n",
      "The order of those genes will be arbitrary, which may produce unexpected results.\n",
      "2025-03-01 12:52:45,637 [WARNING] Duplicated values found in preranked stats: 0.70% of genes\n",
      "The order of those genes will be arbitrary, which may produce unexpected results.\n",
      "2025-03-01 12:52:47,630 [WARNING] Duplicated values found in preranked stats: 0.75% of genes\n",
      "The order of those genes will be arbitrary, which may produce unexpected results.\n",
      "2025-03-01 12:52:49,841 [WARNING] Duplicated values found in preranked stats: 0.85% of genes\n",
      "The order of those genes will be arbitrary, which may produce unexpected results.\n",
      "2025-03-01 12:52:51,858 [WARNING] Duplicated values found in preranked stats: 0.83% of genes\n",
      "The order of those genes will be arbitrary, which may produce unexpected results.\n",
      "2025-03-01 12:52:53,885 [WARNING] Duplicated values found in preranked stats: 0.84% of genes\n",
      "The order of those genes will be arbitrary, which may produce unexpected results.\n",
      "2025-03-01 12:52:55,944 [WARNING] Duplicated values found in preranked stats: 0.84% of genes\n",
      "The order of those genes will be arbitrary, which may produce unexpected results.\n",
      "2025-03-01 12:52:58,071 [WARNING] Duplicated values found in preranked stats: 0.83% of genes\n",
      "The order of those genes will be arbitrary, which may produce unexpected results.\n",
      "2025-03-01 12:53:00,235 [WARNING] Duplicated values found in preranked stats: 0.87% of genes\n",
      "The order of those genes will be arbitrary, which may produce unexpected results.\n",
      "2025-03-01 12:53:02,369 [WARNING] Duplicated values found in preranked stats: 0.87% of genes\n",
      "The order of those genes will be arbitrary, which may produce unexpected results.\n",
      "2025-03-01 12:53:04,586 [WARNING] Duplicated values found in preranked stats: 0.83% of genes\n",
      "The order of those genes will be arbitrary, which may produce unexpected results.\n",
      "2025-03-01 12:53:06,705 [WARNING] Duplicated values found in preranked stats: 0.85% of genes\n",
      "The order of those genes will be arbitrary, which may produce unexpected results.\n",
      "2025-03-01 12:53:08,866 [WARNING] Duplicated values found in preranked stats: 0.85% of genes\n",
      "The order of those genes will be arbitrary, which may produce unexpected results.\n"
     ]
    }
   ],
   "source": [
    "rna_nssGSEA = sp.sopa(rnarankdf, hallmark, output_dir=r\"\\examples\\RNA\")"
   ]
  },
  {
   "cell_type": "code",
   "execution_count": null,
   "metadata": {},
   "outputs": [
    {
     "name": "stderr",
     "output_type": "stream",
     "text": [
      "2025-10-06 08:16:25,622 [WARNING] Duplicated values found in preranked stats: 98.96% of genes\n",
      "The order of those genes will be arbitrary, which may produce unexpected results.\n"
     ]
    },
    {
     "name": "stderr",
     "output_type": "stream",
     "text": [
      "2025-10-06 08:16:26,917 [WARNING] Duplicated values found in preranked stats: 98.46% of genes\n",
      "The order of those genes will be arbitrary, which may produce unexpected results.\n",
      "2025-10-06 08:16:28,201 [WARNING] Duplicated values found in preranked stats: 98.48% of genes\n",
      "The order of those genes will be arbitrary, which may produce unexpected results.\n",
      "2025-10-06 08:16:29,678 [WARNING] Duplicated values found in preranked stats: 99.09% of genes\n",
      "The order of those genes will be arbitrary, which may produce unexpected results.\n",
      "2025-10-06 08:16:31,228 [WARNING] Duplicated values found in preranked stats: 99.07% of genes\n",
      "The order of those genes will be arbitrary, which may produce unexpected results.\n",
      "2025-10-06 08:16:32,917 [WARNING] Duplicated values found in preranked stats: 99.09% of genes\n",
      "The order of those genes will be arbitrary, which may produce unexpected results.\n",
      "2025-10-06 08:16:34,790 [WARNING] Duplicated values found in preranked stats: 98.87% of genes\n",
      "The order of those genes will be arbitrary, which may produce unexpected results.\n",
      "2025-10-06 08:16:36,735 [WARNING] Duplicated values found in preranked stats: 99.09% of genes\n",
      "The order of those genes will be arbitrary, which may produce unexpected results.\n",
      "2025-10-06 08:16:38,709 [WARNING] Duplicated values found in preranked stats: 98.57% of genes\n",
      "The order of those genes will be arbitrary, which may produce unexpected results.\n",
      "2025-10-06 08:16:40,697 [WARNING] Duplicated values found in preranked stats: 98.51% of genes\n",
      "The order of those genes will be arbitrary, which may produce unexpected results.\n",
      "2025-10-06 08:16:42,667 [WARNING] Duplicated values found in preranked stats: 99.08% of genes\n",
      "The order of those genes will be arbitrary, which may produce unexpected results.\n",
      "2025-10-06 08:16:44,693 [WARNING] Duplicated values found in preranked stats: 98.64% of genes\n",
      "The order of those genes will be arbitrary, which may produce unexpected results.\n",
      "2025-10-06 08:16:46,654 [WARNING] Duplicated values found in preranked stats: 98.83% of genes\n",
      "The order of those genes will be arbitrary, which may produce unexpected results.\n",
      "2025-10-06 08:16:48,596 [WARNING] Duplicated values found in preranked stats: 98.90% of genes\n",
      "The order of those genes will be arbitrary, which may produce unexpected results.\n",
      "2025-10-06 08:16:50,556 [WARNING] Duplicated values found in preranked stats: 98.77% of genes\n",
      "The order of those genes will be arbitrary, which may produce unexpected results.\n",
      "2025-10-06 08:16:52,526 [WARNING] Duplicated values found in preranked stats: 98.99% of genes\n",
      "The order of those genes will be arbitrary, which may produce unexpected results.\n",
      "2025-10-06 08:16:54,549 [WARNING] Duplicated values found in preranked stats: 98.72% of genes\n",
      "The order of those genes will be arbitrary, which may produce unexpected results.\n",
      "2025-10-06 08:16:56,543 [WARNING] Duplicated values found in preranked stats: 98.88% of genes\n",
      "The order of those genes will be arbitrary, which may produce unexpected results.\n",
      "2025-10-06 08:16:58,566 [WARNING] Duplicated values found in preranked stats: 99.08% of genes\n",
      "The order of those genes will be arbitrary, which may produce unexpected results.\n",
      "2025-10-06 08:17:00,601 [WARNING] Duplicated values found in preranked stats: 98.85% of genes\n",
      "The order of those genes will be arbitrary, which may produce unexpected results.\n"
     ]
    }
   ],
   "source": [
    "cnv_nssGSEA = sp.sopa(cnvrankdf, hallmark, output_dir=r\"\\examples\\CNV\")"
   ]
  },
  {
   "cell_type": "code",
   "execution_count": null,
   "metadata": {},
   "outputs": [],
   "source": [
    "dna_nssGSEA = sp.sopa(dnarankdf, hallmark, output_dir=r\"\\examples\\DNA\")"
   ]
  },
  {
   "cell_type": "markdown",
   "metadata": {},
   "source": [
    "# SIMPA"
   ]
  },
  {
   "cell_type": "markdown",
   "metadata": {},
   "source": [
    "first get file sample ids from a past sopa run"
   ]
  },
  {
   "cell_type": "code",
   "execution_count": null,
   "metadata": {},
   "outputs": [],
   "source": [
    "# get file list\n",
    "file_list= glob.glob(os.path.join(r'\\examples\\RNA', '*_gsea_results.csv')) # dir is to be replaced with r\"X:\\SOPA_results_folder_Location\\\".\n",
    "# sample ids\n",
    "sample_ids = [os.path.basename(f).split('_')[0] for f in file_list]"
   ]
  },
  {
   "cell_type": "markdown",
   "metadata": {},
   "source": [
    "load sopa directories for 3 omics"
   ]
  },
  {
   "cell_type": "code",
   "execution_count": null,
   "metadata": {},
   "outputs": [],
   "source": [
    "rna_dir = r\"\\examples\\RNA\"\n",
    "cnv_dir = r\"\\examples\\CNV\"\n",
    "dna_dir = r\"\\examples\\DNA\""
   ]
  },
  {
   "cell_type": "markdown",
   "metadata": {},
   "source": [
    "Run SIMPA"
   ]
  },
  {
   "cell_type": "code",
   "execution_count": null,
   "metadata": {},
   "outputs": [
    {
     "name": "stdout",
     "output_type": "stream",
     "text": [
      "Integration done! Results saved in: C:\\Users\\Hasan\\Desktop\\Packaging\\SIMPApy_package\\examples\\SIMPA\n"
     ]
    }
   ],
   "source": [
    "simpadf = sp.simpa(sample_ids=sample_ids, \n",
    "                                 rna_dir=rna_dir,\n",
    "                                 cnv_dir=cnv_dir,\n",
    "                                 dna_dir=dna_dir,\n",
    "                                 output_dir=r\"\\examples\\SIMPA\")"
   ]
  },
  {
   "cell_type": "markdown",
   "metadata": {},
   "source": [
    "# SIMPA analyses"
   ]
  },
  {
   "cell_type": "markdown",
   "metadata": {},
   "source": [
    "load SIMPA results"
   ]
  },
  {
   "cell_type": "code",
   "execution_count": null,
   "metadata": {},
   "outputs": [],
   "source": [
    "simpaloaded = sp.load_simpa(r\"\\examples\\SIMPA\")"
   ]
  },
  {
   "cell_type": "code",
   "execution_count": 15,
   "metadata": {},
   "outputs": [],
   "source": [
    "# keep terms with FDR < 0.05 to have faster processing. This is optional.\n",
    "sig = simpaloaded[simpaloaded['fdr_bh'] < 0.05]"
   ]
  },
  {
   "cell_type": "markdown",
   "metadata": {},
   "source": [
    "here we separate the 2 groups for faster and simpler calculation of group-wide differences"
   ]
  },
  {
   "cell_type": "code",
   "execution_count": 16,
   "metadata": {},
   "outputs": [],
   "source": [
    "tmas, twas = sp.process_multiomics_data(sig, rna, cnv, dna)"
   ]
  },
  {
   "cell_type": "markdown",
   "metadata": {},
   "source": [
    "if 1 big group of tmas and twas is required, we could potentially use\n",
    "```\n",
    "population = pd.concat([tmas,twas], axis=1)\n",
    "```"
   ]
  },
  {
   "cell_type": "markdown",
   "metadata": {},
   "source": [
    "to visualize tmas using the 3d box visualization\n",
    "\n",
    "we use ```create_interactive_plot(df,'some_heading') # we could keep '' for an empty heading```"
   ]
  },
  {
   "cell_type": "code",
   "execution_count": 17,
   "metadata": {},
   "outputs": [
    {
     "data": {
      "application/vnd.jupyter.widget-view+json": {
       "model_id": "8db0194e2e2b43059a440f31c5eb40e7",
       "version_major": 2,
       "version_minor": 0
      },
      "text/plain": [
       "VBox(children=(HBox(children=(Dropdown(description='Term:', options=('HALLMARK_ADIPOGENESIS', 'HALLMARK_ALLOGR…"
      ]
     },
     "metadata": {},
     "output_type": "display_data"
    }
   ],
   "source": [
    "sp.create_interactive_plot(tmas,'TMAs Example')"
   ]
  },
  {
   "cell_type": "code",
   "execution_count": 18,
   "metadata": {},
   "outputs": [
    {
     "data": {
      "text/html": [
       "<div>\n",
       "<style scoped>\n",
       "    .dataframe tbody tr th:only-of-type {\n",
       "        vertical-align: middle;\n",
       "    }\n",
       "\n",
       "    .dataframe tbody tr th {\n",
       "        vertical-align: top;\n",
       "    }\n",
       "\n",
       "    .dataframe thead th {\n",
       "        text-align: right;\n",
       "    }\n",
       "</style>\n",
       "<table border=\"1\" class=\"dataframe\">\n",
       "  <thead>\n",
       "    <tr style=\"text-align: right;\">\n",
       "      <th></th>\n",
       "      <th>sample_name</th>\n",
       "      <th>Term</th>\n",
       "      <th>gene_name</th>\n",
       "      <th>fdr</th>\n",
       "      <th>rna_value</th>\n",
       "      <th>rna_nes</th>\n",
       "      <th>rna_tag</th>\n",
       "      <th>mpes</th>\n",
       "      <th>cnv_value</th>\n",
       "      <th>cnv_nes</th>\n",
       "      <th>cnv_tag</th>\n",
       "      <th>dna_value</th>\n",
       "      <th>dna_nes</th>\n",
       "      <th>dna_tag</th>\n",
       "      <th>cancer_type</th>\n",
       "      <th>ajcc_pathologic_stage</th>\n",
       "    </tr>\n",
       "  </thead>\n",
       "  <tbody>\n",
       "    <tr>\n",
       "      <th>0</th>\n",
       "      <td>tm10</td>\n",
       "      <td>HALLMARK_EPITHELIAL_MESENCHYMAL_TRANSITION</td>\n",
       "      <td>ABI3BP</td>\n",
       "      <td>5.230520e-11</td>\n",
       "      <td>0.4820</td>\n",
       "      <td>-1.444291</td>\n",
       "      <td>1</td>\n",
       "      <td>-4.83850</td>\n",
       "      <td>2.0</td>\n",
       "      <td>0.705905</td>\n",
       "      <td>0</td>\n",
       "      <td>3.726889</td>\n",
       "      <td>-1.462966</td>\n",
       "      <td>1</td>\n",
       "      <td>Not Available</td>\n",
       "      <td>Not Available</td>\n",
       "    </tr>\n",
       "    <tr>\n",
       "      <th>1</th>\n",
       "      <td>tm10</td>\n",
       "      <td>HALLMARK_EPITHELIAL_MESENCHYMAL_TRANSITION</td>\n",
       "      <td>ANPEP</td>\n",
       "      <td>5.230520e-11</td>\n",
       "      <td>3.9514</td>\n",
       "      <td>-1.444291</td>\n",
       "      <td>1</td>\n",
       "      <td>-4.83850</td>\n",
       "      <td>2.0</td>\n",
       "      <td>0.705905</td>\n",
       "      <td>0</td>\n",
       "      <td>1.039212</td>\n",
       "      <td>-1.462966</td>\n",
       "      <td>0</td>\n",
       "      <td>Not Available</td>\n",
       "      <td>Not Available</td>\n",
       "    </tr>\n",
       "    <tr>\n",
       "      <th>2</th>\n",
       "      <td>tm10</td>\n",
       "      <td>HALLMARK_EPITHELIAL_MESENCHYMAL_TRANSITION</td>\n",
       "      <td>AREG</td>\n",
       "      <td>5.230520e-11</td>\n",
       "      <td>565.3915</td>\n",
       "      <td>-1.444291</td>\n",
       "      <td>0</td>\n",
       "      <td>-4.83850</td>\n",
       "      <td>2.0</td>\n",
       "      <td>0.705905</td>\n",
       "      <td>0</td>\n",
       "      <td>-0.759412</td>\n",
       "      <td>-1.462966</td>\n",
       "      <td>1</td>\n",
       "      <td>Not Available</td>\n",
       "      <td>Not Available</td>\n",
       "    </tr>\n",
       "    <tr>\n",
       "      <th>3</th>\n",
       "      <td>tm10</td>\n",
       "      <td>HALLMARK_EPITHELIAL_MESENCHYMAL_TRANSITION</td>\n",
       "      <td>BASP1</td>\n",
       "      <td>5.230520e-11</td>\n",
       "      <td>6.3844</td>\n",
       "      <td>-1.444291</td>\n",
       "      <td>1</td>\n",
       "      <td>-4.83850</td>\n",
       "      <td>2.0</td>\n",
       "      <td>0.705905</td>\n",
       "      <td>0</td>\n",
       "      <td>4.635065</td>\n",
       "      <td>-1.462966</td>\n",
       "      <td>0</td>\n",
       "      <td>Not Available</td>\n",
       "      <td>Not Available</td>\n",
       "    </tr>\n",
       "    <tr>\n",
       "      <th>4</th>\n",
       "      <td>tm10</td>\n",
       "      <td>HALLMARK_EPITHELIAL_MESENCHYMAL_TRANSITION</td>\n",
       "      <td>BMP1</td>\n",
       "      <td>5.230520e-11</td>\n",
       "      <td>14.2645</td>\n",
       "      <td>-1.444291</td>\n",
       "      <td>0</td>\n",
       "      <td>-4.83850</td>\n",
       "      <td>1.0</td>\n",
       "      <td>0.705905</td>\n",
       "      <td>0</td>\n",
       "      <td>-0.458580</td>\n",
       "      <td>-1.462966</td>\n",
       "      <td>1</td>\n",
       "      <td>Not Available</td>\n",
       "      <td>Not Available</td>\n",
       "    </tr>\n",
       "    <tr>\n",
       "      <th>...</th>\n",
       "      <td>...</td>\n",
       "      <td>...</td>\n",
       "      <td>...</td>\n",
       "      <td>...</td>\n",
       "      <td>...</td>\n",
       "      <td>...</td>\n",
       "      <td>...</td>\n",
       "      <td>...</td>\n",
       "      <td>...</td>\n",
       "      <td>...</td>\n",
       "      <td>...</td>\n",
       "      <td>...</td>\n",
       "      <td>...</td>\n",
       "      <td>...</td>\n",
       "      <td>...</td>\n",
       "      <td>...</td>\n",
       "    </tr>\n",
       "    <tr>\n",
       "      <th>5101</th>\n",
       "      <td>tm9</td>\n",
       "      <td>HALLMARK_ANDROGEN_RESPONSE</td>\n",
       "      <td>TNFAIP8</td>\n",
       "      <td>1.311255e-04</td>\n",
       "      <td>18.7285</td>\n",
       "      <td>0.956977</td>\n",
       "      <td>0</td>\n",
       "      <td>-2.44949</td>\n",
       "      <td>6.0</td>\n",
       "      <td>1.171469</td>\n",
       "      <td>1</td>\n",
       "      <td>2.895564</td>\n",
       "      <td>-1.955527</td>\n",
       "      <td>0</td>\n",
       "      <td>Not Available</td>\n",
       "      <td>Not Available</td>\n",
       "    </tr>\n",
       "    <tr>\n",
       "      <th>5102</th>\n",
       "      <td>tm9</td>\n",
       "      <td>HALLMARK_ANDROGEN_RESPONSE</td>\n",
       "      <td>TSC22D1</td>\n",
       "      <td>1.311255e-04</td>\n",
       "      <td>214.8955</td>\n",
       "      <td>0.956977</td>\n",
       "      <td>1</td>\n",
       "      <td>-2.44949</td>\n",
       "      <td>3.0</td>\n",
       "      <td>1.171469</td>\n",
       "      <td>0</td>\n",
       "      <td>1.458435</td>\n",
       "      <td>-1.955527</td>\n",
       "      <td>0</td>\n",
       "      <td>Not Available</td>\n",
       "      <td>Not Available</td>\n",
       "    </tr>\n",
       "    <tr>\n",
       "      <th>5103</th>\n",
       "      <td>tm9</td>\n",
       "      <td>HALLMARK_ANDROGEN_RESPONSE</td>\n",
       "      <td>UBE2J1</td>\n",
       "      <td>1.311255e-04</td>\n",
       "      <td>70.6214</td>\n",
       "      <td>0.956977</td>\n",
       "      <td>0</td>\n",
       "      <td>-2.44949</td>\n",
       "      <td>4.0</td>\n",
       "      <td>1.171469</td>\n",
       "      <td>0</td>\n",
       "      <td>-1.878903</td>\n",
       "      <td>-1.955527</td>\n",
       "      <td>0</td>\n",
       "      <td>Not Available</td>\n",
       "      <td>Not Available</td>\n",
       "    </tr>\n",
       "    <tr>\n",
       "      <th>5104</th>\n",
       "      <td>tm9</td>\n",
       "      <td>HALLMARK_ANDROGEN_RESPONSE</td>\n",
       "      <td>XRCC5</td>\n",
       "      <td>1.311255e-04</td>\n",
       "      <td>126.0580</td>\n",
       "      <td>0.956977</td>\n",
       "      <td>0</td>\n",
       "      <td>-2.44949</td>\n",
       "      <td>4.0</td>\n",
       "      <td>1.171469</td>\n",
       "      <td>0</td>\n",
       "      <td>2.102251</td>\n",
       "      <td>-1.955527</td>\n",
       "      <td>0</td>\n",
       "      <td>Not Available</td>\n",
       "      <td>Not Available</td>\n",
       "    </tr>\n",
       "    <tr>\n",
       "      <th>5105</th>\n",
       "      <td>tm9</td>\n",
       "      <td>HALLMARK_ANDROGEN_RESPONSE</td>\n",
       "      <td>ZMIZ1</td>\n",
       "      <td>1.311255e-04</td>\n",
       "      <td>15.8764</td>\n",
       "      <td>0.956977</td>\n",
       "      <td>0</td>\n",
       "      <td>-2.44949</td>\n",
       "      <td>4.0</td>\n",
       "      <td>1.171469</td>\n",
       "      <td>1</td>\n",
       "      <td>1.853583</td>\n",
       "      <td>-1.955527</td>\n",
       "      <td>0</td>\n",
       "      <td>Not Available</td>\n",
       "      <td>Not Available</td>\n",
       "    </tr>\n",
       "  </tbody>\n",
       "</table>\n",
       "<p>5106 rows × 16 columns</p>\n",
       "</div>"
      ],
      "text/plain": [
       "     sample_name                                        Term gene_name  \\\n",
       "0           tm10  HALLMARK_EPITHELIAL_MESENCHYMAL_TRANSITION    ABI3BP   \n",
       "1           tm10  HALLMARK_EPITHELIAL_MESENCHYMAL_TRANSITION     ANPEP   \n",
       "2           tm10  HALLMARK_EPITHELIAL_MESENCHYMAL_TRANSITION      AREG   \n",
       "3           tm10  HALLMARK_EPITHELIAL_MESENCHYMAL_TRANSITION     BASP1   \n",
       "4           tm10  HALLMARK_EPITHELIAL_MESENCHYMAL_TRANSITION      BMP1   \n",
       "...          ...                                         ...       ...   \n",
       "5101         tm9                  HALLMARK_ANDROGEN_RESPONSE   TNFAIP8   \n",
       "5102         tm9                  HALLMARK_ANDROGEN_RESPONSE   TSC22D1   \n",
       "5103         tm9                  HALLMARK_ANDROGEN_RESPONSE    UBE2J1   \n",
       "5104         tm9                  HALLMARK_ANDROGEN_RESPONSE     XRCC5   \n",
       "5105         tm9                  HALLMARK_ANDROGEN_RESPONSE     ZMIZ1   \n",
       "\n",
       "               fdr  rna_value   rna_nes  rna_tag     mpes  cnv_value  \\\n",
       "0     5.230520e-11     0.4820 -1.444291        1 -4.83850        2.0   \n",
       "1     5.230520e-11     3.9514 -1.444291        1 -4.83850        2.0   \n",
       "2     5.230520e-11   565.3915 -1.444291        0 -4.83850        2.0   \n",
       "3     5.230520e-11     6.3844 -1.444291        1 -4.83850        2.0   \n",
       "4     5.230520e-11    14.2645 -1.444291        0 -4.83850        1.0   \n",
       "...            ...        ...       ...      ...      ...        ...   \n",
       "5101  1.311255e-04    18.7285  0.956977        0 -2.44949        6.0   \n",
       "5102  1.311255e-04   214.8955  0.956977        1 -2.44949        3.0   \n",
       "5103  1.311255e-04    70.6214  0.956977        0 -2.44949        4.0   \n",
       "5104  1.311255e-04   126.0580  0.956977        0 -2.44949        4.0   \n",
       "5105  1.311255e-04    15.8764  0.956977        0 -2.44949        4.0   \n",
       "\n",
       "       cnv_nes  cnv_tag  dna_value   dna_nes  dna_tag    cancer_type  \\\n",
       "0     0.705905        0   3.726889 -1.462966        1  Not Available   \n",
       "1     0.705905        0   1.039212 -1.462966        0  Not Available   \n",
       "2     0.705905        0  -0.759412 -1.462966        1  Not Available   \n",
       "3     0.705905        0   4.635065 -1.462966        0  Not Available   \n",
       "4     0.705905        0  -0.458580 -1.462966        1  Not Available   \n",
       "...        ...      ...        ...       ...      ...            ...   \n",
       "5101  1.171469        1   2.895564 -1.955527        0  Not Available   \n",
       "5102  1.171469        0   1.458435 -1.955527        0  Not Available   \n",
       "5103  1.171469        0  -1.878903 -1.955527        0  Not Available   \n",
       "5104  1.171469        0   2.102251 -1.955527        0  Not Available   \n",
       "5105  1.171469        1   1.853583 -1.955527        0  Not Available   \n",
       "\n",
       "     ajcc_pathologic_stage  \n",
       "0            Not Available  \n",
       "1            Not Available  \n",
       "2            Not Available  \n",
       "3            Not Available  \n",
       "4            Not Available  \n",
       "...                    ...  \n",
       "5101         Not Available  \n",
       "5102         Not Available  \n",
       "5103         Not Available  \n",
       "5104         Not Available  \n",
       "5105         Not Available  \n",
       "\n",
       "[5106 rows x 16 columns]"
      ]
     },
     "execution_count": 18,
     "metadata": {},
     "output_type": "execute_result"
    }
   ],
   "source": [
    "tmas # see dataframe structure"
   ]
  }
 ],
 "metadata": {
  "kernelspec": {
   "display_name": "testpypi2",
   "language": "python",
   "name": "python3"
  },
  "language_info": {
   "codemirror_mode": {
    "name": "ipython",
    "version": 3
   },
   "file_extension": ".py",
   "mimetype": "text/x-python",
   "name": "python",
   "nbconvert_exporter": "python",
   "pygments_lexer": "ipython3",
   "version": "3.11.11"
  }
 },
 "nbformat": 4,
 "nbformat_minor": 2
}
