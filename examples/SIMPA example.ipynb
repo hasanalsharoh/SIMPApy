{
 "cells": [
  {
   "cell_type": "markdown",
   "metadata": {},
   "source": [
    "after making a new environment, the kernel should preferablly be python 3.11.9\n",
    "\n",
    "Then we can install SIMPApy"
   ]
  },
  {
   "cell_type": "code",
   "execution_count": null,
   "metadata": {},
   "outputs": [],
   "source": [
    "!pip install SIMPApy"
   ]
  },
  {
   "cell_type": "markdown",
   "metadata": {},
   "source": [
    "# import packages"
   ]
  },
  {
   "cell_type": "code",
   "execution_count": 1,
   "metadata": {},
   "outputs": [],
   "source": [
    "import pandas as pd\n",
    "import numpy as np\n",
    "import glob\n",
    "import os\n",
    "import gseapy as gp\n",
    "import ipywidgets\n",
    "import SIMPApy as sp"
   ]
  },
  {
   "cell_type": "markdown",
   "metadata": {},
   "source": [
    "# load dataframes"
   ]
  },
  {
   "cell_type": "code",
   "execution_count": 2,
   "metadata": {},
   "outputs": [],
   "source": [
    "hallmark = r\"C:\\Users\\Hasan\\Desktop\\Packaging\\SIMPApy_package\\data\\h.all.v2023.1.Hs.symbols.gmt\""
   ]
  },
  {
   "cell_type": "code",
   "execution_count": 3,
   "metadata": {},
   "outputs": [],
   "source": [
    "rna = pd.read_csv(r'C:\\Users\\Hasan\\Desktop\\Packaging\\SIMPApy_package\\data\\rna.csv', index_col=0)\n",
    "cnv = pd.read_csv(r'C:\\Users\\Hasan\\Desktop\\Packaging\\SIMPApy_package\\data\\cn.csv', index_col=0)\n",
    "meth = pd.read_csv(r'C:\\Users\\Hasan\\Desktop\\Packaging\\SIMPApy_package\\data\\meth.csv', index_col=0)\n",
    "dna = pd.read_csv(r'C:\\Users\\Hasan\\Desktop\\Packaging\\SIMPApy_package\\data\\dna.csv', index_col=0)"
   ]
  },
  {
   "cell_type": "markdown",
   "metadata": {},
   "source": [
    "# calculate rankings"
   ]
  },
  {
   "cell_type": "code",
   "execution_count": 4,
   "metadata": {},
   "outputs": [],
   "source": [
    "rnaranks = sp.calculate_ranking(rna, omic='rna')"
   ]
  },
  {
   "cell_type": "code",
   "execution_count": 5,
   "metadata": {},
   "outputs": [],
   "source": [
    "cnvranks = sp.calculate_ranking(cnv, omic='cnv')"
   ]
  },
  {
   "cell_type": "code",
   "execution_count": 6,
   "metadata": {},
   "outputs": [],
   "source": [
    "dnaranks = sp.calculate_ranking(dna, omic='dnam')"
   ]
  },
  {
   "cell_type": "markdown",
   "metadata": {},
   "source": [
    "then concatenate dataframes"
   ]
  },
  {
   "cell_type": "code",
   "execution_count": 7,
   "metadata": {},
   "outputs": [],
   "source": [
    "rnarankdf = pd.concat({k: v['weighted'] for k, v in rnaranks.items()}, axis=1)"
   ]
  },
  {
   "cell_type": "code",
   "execution_count": 8,
   "metadata": {},
   "outputs": [],
   "source": [
    "cnvrankdf = pd.concat({k: v['adjusted_weight'] for k, v in cnvranks.items()}, axis=1)"
   ]
  },
  {
   "cell_type": "code",
   "execution_count": 9,
   "metadata": {},
   "outputs": [],
   "source": [
    "dnarankdf = pd.concat({k: v['weighted'] for k, v in dnaranks.items()}, axis=1)"
   ]
  },
  {
   "cell_type": "markdown",
   "metadata": {},
   "source": [
    "# SOPA"
   ]
  },
  {
   "cell_type": "code",
   "execution_count": 17,
   "metadata": {},
   "outputs": [
    {
     "name": "stderr",
     "output_type": "stream",
     "text": [
      "2025-03-01 12:52:31,658 [WARNING] Duplicated values found in preranked stats: 0.70% of genes\n",
      "The order of those genes will be arbitrary, which may produce unexpected results.\n",
      "2025-03-01 12:52:33,067 [WARNING] Duplicated values found in preranked stats: 0.78% of genes\n",
      "The order of those genes will be arbitrary, which may produce unexpected results.\n",
      "2025-03-01 12:52:34,585 [WARNING] Duplicated values found in preranked stats: 0.72% of genes\n",
      "The order of those genes will be arbitrary, which may produce unexpected results.\n",
      "2025-03-01 12:52:36,166 [WARNING] Duplicated values found in preranked stats: 0.72% of genes\n",
      "The order of those genes will be arbitrary, which may produce unexpected results.\n",
      "2025-03-01 12:52:37,864 [WARNING] Duplicated values found in preranked stats: 0.74% of genes\n",
      "The order of those genes will be arbitrary, which may produce unexpected results.\n",
      "2025-03-01 12:52:39,663 [WARNING] Duplicated values found in preranked stats: 0.77% of genes\n",
      "The order of those genes will be arbitrary, which may produce unexpected results.\n",
      "2025-03-01 12:52:41,657 [WARNING] Duplicated values found in preranked stats: 0.73% of genes\n",
      "The order of those genes will be arbitrary, which may produce unexpected results.\n",
      "2025-03-01 12:52:43,693 [WARNING] Duplicated values found in preranked stats: 0.56% of genes\n",
      "The order of those genes will be arbitrary, which may produce unexpected results.\n",
      "2025-03-01 12:52:45,637 [WARNING] Duplicated values found in preranked stats: 0.70% of genes\n",
      "The order of those genes will be arbitrary, which may produce unexpected results.\n",
      "2025-03-01 12:52:47,630 [WARNING] Duplicated values found in preranked stats: 0.75% of genes\n",
      "The order of those genes will be arbitrary, which may produce unexpected results.\n",
      "2025-03-01 12:52:49,841 [WARNING] Duplicated values found in preranked stats: 0.85% of genes\n",
      "The order of those genes will be arbitrary, which may produce unexpected results.\n",
      "2025-03-01 12:52:51,858 [WARNING] Duplicated values found in preranked stats: 0.83% of genes\n",
      "The order of those genes will be arbitrary, which may produce unexpected results.\n",
      "2025-03-01 12:52:53,885 [WARNING] Duplicated values found in preranked stats: 0.84% of genes\n",
      "The order of those genes will be arbitrary, which may produce unexpected results.\n",
      "2025-03-01 12:52:55,944 [WARNING] Duplicated values found in preranked stats: 0.84% of genes\n",
      "The order of those genes will be arbitrary, which may produce unexpected results.\n",
      "2025-03-01 12:52:58,071 [WARNING] Duplicated values found in preranked stats: 0.83% of genes\n",
      "The order of those genes will be arbitrary, which may produce unexpected results.\n",
      "2025-03-01 12:53:00,235 [WARNING] Duplicated values found in preranked stats: 0.87% of genes\n",
      "The order of those genes will be arbitrary, which may produce unexpected results.\n",
      "2025-03-01 12:53:02,369 [WARNING] Duplicated values found in preranked stats: 0.87% of genes\n",
      "The order of those genes will be arbitrary, which may produce unexpected results.\n",
      "2025-03-01 12:53:04,586 [WARNING] Duplicated values found in preranked stats: 0.83% of genes\n",
      "The order of those genes will be arbitrary, which may produce unexpected results.\n",
      "2025-03-01 12:53:06,705 [WARNING] Duplicated values found in preranked stats: 0.85% of genes\n",
      "The order of those genes will be arbitrary, which may produce unexpected results.\n",
      "2025-03-01 12:53:08,866 [WARNING] Duplicated values found in preranked stats: 0.85% of genes\n",
      "The order of those genes will be arbitrary, which may produce unexpected results.\n"
     ]
    }
   ],
   "source": [
    "rna_nssGSEA = sp.sopa_population(rnarankdf, hallmark, output_dir=r\"C:\\Users\\Hasan\\Desktop\\Packaging\\SIMPApy_package\\examples\\RNA\")"
   ]
  },
  {
   "cell_type": "code",
   "execution_count": null,
   "metadata": {},
   "outputs": [
    {
     "name": "stderr",
     "output_type": "stream",
     "text": [
      "2025-03-01 11:27:14,851 [WARNING] Duplicated values found in preranked stats: 99.12% of genes\n",
      "The order of those genes will be arbitrary, which may produce unexpected results.\n",
      "2025-03-01 11:27:17,373 [WARNING] Duplicated values found in preranked stats: 99.37% of genes\n",
      "The order of those genes will be arbitrary, which may produce unexpected results.\n",
      "2025-03-01 11:27:20,102 [WARNING] Duplicated values found in preranked stats: 99.45% of genes\n",
      "The order of those genes will be arbitrary, which may produce unexpected results.\n",
      "2025-03-01 11:27:22,606 [WARNING] Duplicated values found in preranked stats: 99.17% of genes\n",
      "The order of those genes will be arbitrary, which may produce unexpected results.\n",
      "2025-03-01 11:27:25,149 [WARNING] Duplicated values found in preranked stats: 99.15% of genes\n",
      "The order of those genes will be arbitrary, which may produce unexpected results.\n",
      "2025-03-01 11:27:27,868 [WARNING] Duplicated values found in preranked stats: 99.17% of genes\n",
      "The order of those genes will be arbitrary, which may produce unexpected results.\n",
      "2025-03-01 11:27:30,408 [WARNING] Duplicated values found in preranked stats: 99.18% of genes\n",
      "The order of those genes will be arbitrary, which may produce unexpected results.\n",
      "2025-03-01 11:27:32,660 [WARNING] Duplicated values found in preranked stats: 99.17% of genes\n",
      "The order of those genes will be arbitrary, which may produce unexpected results.\n",
      "2025-03-01 11:27:35,056 [WARNING] Duplicated values found in preranked stats: 99.72% of genes\n",
      "The order of those genes will be arbitrary, which may produce unexpected results.\n",
      "2025-03-01 11:27:37,420 [WARNING] Duplicated values found in preranked stats: 99.35% of genes\n",
      "The order of those genes will be arbitrary, which may produce unexpected results.\n",
      "2025-03-01 11:27:39,801 [WARNING] Duplicated values found in preranked stats: 99.17% of genes\n",
      "The order of those genes will be arbitrary, which may produce unexpected results.\n",
      "2025-03-01 11:27:42,107 [WARNING] Duplicated values found in preranked stats: 99.58% of genes\n",
      "The order of those genes will be arbitrary, which may produce unexpected results.\n",
      "2025-03-01 11:27:44,289 [WARNING] Duplicated values found in preranked stats: 99.30% of genes\n",
      "The order of those genes will be arbitrary, which may produce unexpected results.\n",
      "2025-03-01 11:27:46,595 [WARNING] Duplicated values found in preranked stats: 99.23% of genes\n",
      "The order of those genes will be arbitrary, which may produce unexpected results.\n",
      "2025-03-01 11:27:48,910 [WARNING] Duplicated values found in preranked stats: 99.29% of genes\n",
      "The order of those genes will be arbitrary, which may produce unexpected results.\n",
      "2025-03-01 11:27:51,775 [WARNING] Duplicated values found in preranked stats: 99.18% of genes\n",
      "The order of those genes will be arbitrary, which may produce unexpected results.\n",
      "2025-03-01 11:27:54,110 [WARNING] Duplicated values found in preranked stats: 99.42% of genes\n",
      "The order of those genes will be arbitrary, which may produce unexpected results.\n",
      "2025-03-01 11:27:56,418 [WARNING] Duplicated values found in preranked stats: 99.81% of genes\n",
      "The order of those genes will be arbitrary, which may produce unexpected results.\n",
      "2025-03-01 11:27:59,008 [WARNING] Duplicated values found in preranked stats: 99.17% of genes\n",
      "The order of those genes will be arbitrary, which may produce unexpected results.\n",
      "2025-03-01 11:28:01,344 [WARNING] Duplicated values found in preranked stats: 99.31% of genes\n",
      "The order of those genes will be arbitrary, which may produce unexpected results.\n"
     ]
    }
   ],
   "source": [
    "cnv_nssGSEA = sp.sopa_population(cnvrankdf, hallmark, output_dir=r\"C:\\Users\\Hasan\\Desktop\\Packaging\\SIMPApy_package\\examples\\CNV\")"
   ]
  },
  {
   "cell_type": "code",
   "execution_count": null,
   "metadata": {},
   "outputs": [],
   "source": [
    "dna_nssGSEA = sp.sopa_population(dnarankdf, hallmark, output_dir=r\"C:\\Users\\Hasan\\Desktop\\Packaging\\SIMPApy_package\\examples\\DNA\")"
   ]
  },
  {
   "cell_type": "markdown",
   "metadata": {},
   "source": [
    "# SIMPA"
   ]
  },
  {
   "cell_type": "markdown",
   "metadata": {},
   "source": [
    "first get file sample ids from a past sopa run"
   ]
  },
  {
   "cell_type": "code",
   "execution_count": 11,
   "metadata": {},
   "outputs": [],
   "source": [
    "# get file list\n",
    "file_list= glob.glob(os.path.join(r'C:\\Users\\Hasan\\Desktop\\Packaging\\SIMPApy_package\\examples\\RNA', '*_gsea_results.csv')) # dir is to be replaced with r\"X:\\nssGSEA_results_folder_Location\\\".\n",
    "# sample ids\n",
    "sample_ids = [os.path.basename(f).split('_')[0] for f in file_list]"
   ]
  },
  {
   "cell_type": "markdown",
   "metadata": {},
   "source": [
    "load sopa directories for 3 omics"
   ]
  },
  {
   "cell_type": "code",
   "execution_count": 10,
   "metadata": {},
   "outputs": [],
   "source": [
    "rna_dir = r\"C:\\Users\\Hasan\\Desktop\\Packaging\\SIMPApy_package\\examples\\RNA\"\n",
    "cnv_dir = r\"C:\\Users\\Hasan\\Desktop\\Packaging\\SIMPApy_package\\examples\\CNV\"\n",
    "dna_dir = r\"C:\\Users\\Hasan\\Desktop\\Packaging\\SIMPApy_package\\examples\\DNA\""
   ]
  },
  {
   "cell_type": "markdown",
   "metadata": {},
   "source": [
    "Run SIMPA"
   ]
  },
  {
   "cell_type": "code",
   "execution_count": 12,
   "metadata": {},
   "outputs": [
    {
     "name": "stdout",
     "output_type": "stream",
     "text": [
      "Integration done! Results saved in: C:\\Users\\Hasan\\Desktop\\Packaging\\SIMPApy_package\\examples\\SIMPA\n"
     ]
    }
   ],
   "source": [
    "simpadf = sp.simpa(sample_ids=sample_ids, \n",
    "                                 rna_dir=rna_dir,\n",
    "                                 cnv_dir=cnv_dir,\n",
    "                                 dna_dir=dna_dir,\n",
    "                                 output_dir=r\"C:\\Users\\Hasan\\Desktop\\Packaging\\SIMPApy_package\\examples\\SIMPA\")"
   ]
  },
  {
   "cell_type": "markdown",
   "metadata": {},
   "source": [
    "# SIMPA analyses"
   ]
  },
  {
   "cell_type": "markdown",
   "metadata": {},
   "source": [
    "load SIMPA results"
   ]
  },
  {
   "cell_type": "code",
   "execution_count": 13,
   "metadata": {},
   "outputs": [],
   "source": [
    "simpaloaded = sp.load_simpa(r\"C:\\Users\\Hasan\\Desktop\\Packaging\\SIMPApy_package\\examples\\SIMPA\")"
   ]
  },
  {
   "cell_type": "code",
   "execution_count": null,
   "metadata": {},
   "outputs": [],
   "source": [
    "# keep terms with FDR < 0.05 to have faster processing. This is optional.\n",
    "sig = simpaloaded[simpaloaded['fdr_bh'] < 0.05]"
   ]
  },
  {
   "cell_type": "markdown",
   "metadata": {},
   "source": [
    "here we separate the 2 groups for faster and simpler calculation of group-wide differences"
   ]
  },
  {
   "cell_type": "code",
   "execution_count": 15,
   "metadata": {},
   "outputs": [],
   "source": [
    "tmas, twas = sp.process_multiomics_data(sig, rna, cnv, dna)"
   ]
  },
  {
   "cell_type": "markdown",
   "metadata": {},
   "source": [
    "if 1 big group of tmas and twas is required, we could potentially use\n",
    "```\n",
    "population = pd.concat([tmas,twas], axis=1)\n",
    "```"
   ]
  },
  {
   "cell_type": "markdown",
   "metadata": {},
   "source": [
    "to visualize tmas using the 3d box visualization\n",
    "\n",
    "we use ```create_interactive_plot(df,'some_heading') # we could keep '' for an empty heading```"
   ]
  },
  {
   "cell_type": "code",
   "execution_count": 16,
   "metadata": {},
   "outputs": [
    {
     "data": {
      "application/vnd.jupyter.widget-view+json": {
       "model_id": "59b39cd72a604230b6954ef71614852e",
       "version_major": 2,
       "version_minor": 0
      },
      "text/plain": [
       "VBox(children=(HBox(children=(Dropdown(description='Term:', options=('HALLMARK_ADIPOGENESIS', 'HALLMARK_ALLOGR…"
      ]
     },
     "metadata": {},
     "output_type": "display_data"
    }
   ],
   "source": [
    "sp.create_interactive_plot(tmas,'TMAs Example')"
   ]
  },
  {
   "cell_type": "code",
   "execution_count": 25,
   "metadata": {},
   "outputs": [
    {
     "data": {
      "text/html": [
       "<div>\n",
       "<style scoped>\n",
       "    .dataframe tbody tr th:only-of-type {\n",
       "        vertical-align: middle;\n",
       "    }\n",
       "\n",
       "    .dataframe tbody tr th {\n",
       "        vertical-align: top;\n",
       "    }\n",
       "\n",
       "    .dataframe thead th {\n",
       "        text-align: right;\n",
       "    }\n",
       "</style>\n",
       "<table border=\"1\" class=\"dataframe\">\n",
       "  <thead>\n",
       "    <tr style=\"text-align: right;\">\n",
       "      <th></th>\n",
       "      <th>sample_name</th>\n",
       "      <th>Term</th>\n",
       "      <th>gene_name</th>\n",
       "      <th>fdr</th>\n",
       "      <th>rna_value</th>\n",
       "      <th>rna_nes</th>\n",
       "      <th>rna_tag</th>\n",
       "      <th>mpes</th>\n",
       "      <th>cnv_value</th>\n",
       "      <th>cnv_nes</th>\n",
       "      <th>cnv_tag</th>\n",
       "      <th>dna_value</th>\n",
       "      <th>dna_nes</th>\n",
       "      <th>dna_tag</th>\n",
       "      <th>cancer_type</th>\n",
       "      <th>ajcc_pathologic_stage</th>\n",
       "    </tr>\n",
       "  </thead>\n",
       "  <tbody>\n",
       "    <tr>\n",
       "      <th>0</th>\n",
       "      <td>tm10</td>\n",
       "      <td>HALLMARK_EPITHELIAL_MESENCHYMAL_TRANSITION</td>\n",
       "      <td>ABI3BP</td>\n",
       "      <td>1.003535e-07</td>\n",
       "      <td>0.4820</td>\n",
       "      <td>-1.444291</td>\n",
       "      <td>1</td>\n",
       "      <td>-4.413118</td>\n",
       "      <td>2.0</td>\n",
       "      <td>1.044844</td>\n",
       "      <td>0</td>\n",
       "      <td>3.726889</td>\n",
       "      <td>-1.462966</td>\n",
       "      <td>1</td>\n",
       "      <td>Not Available</td>\n",
       "      <td>Not Available</td>\n",
       "    </tr>\n",
       "    <tr>\n",
       "      <th>1</th>\n",
       "      <td>tm10</td>\n",
       "      <td>HALLMARK_EPITHELIAL_MESENCHYMAL_TRANSITION</td>\n",
       "      <td>ANPEP</td>\n",
       "      <td>1.003535e-07</td>\n",
       "      <td>3.9514</td>\n",
       "      <td>-1.444291</td>\n",
       "      <td>1</td>\n",
       "      <td>-4.413118</td>\n",
       "      <td>2.0</td>\n",
       "      <td>1.044844</td>\n",
       "      <td>0</td>\n",
       "      <td>1.039212</td>\n",
       "      <td>-1.462966</td>\n",
       "      <td>0</td>\n",
       "      <td>Not Available</td>\n",
       "      <td>Not Available</td>\n",
       "    </tr>\n",
       "    <tr>\n",
       "      <th>2</th>\n",
       "      <td>tm10</td>\n",
       "      <td>HALLMARK_EPITHELIAL_MESENCHYMAL_TRANSITION</td>\n",
       "      <td>AREG</td>\n",
       "      <td>1.003535e-07</td>\n",
       "      <td>565.3915</td>\n",
       "      <td>-1.444291</td>\n",
       "      <td>0</td>\n",
       "      <td>-4.413118</td>\n",
       "      <td>2.0</td>\n",
       "      <td>1.044844</td>\n",
       "      <td>0</td>\n",
       "      <td>-0.759412</td>\n",
       "      <td>-1.462966</td>\n",
       "      <td>1</td>\n",
       "      <td>Not Available</td>\n",
       "      <td>Not Available</td>\n",
       "    </tr>\n",
       "    <tr>\n",
       "      <th>3</th>\n",
       "      <td>tm10</td>\n",
       "      <td>HALLMARK_EPITHELIAL_MESENCHYMAL_TRANSITION</td>\n",
       "      <td>BASP1</td>\n",
       "      <td>1.003535e-07</td>\n",
       "      <td>6.3844</td>\n",
       "      <td>-1.444291</td>\n",
       "      <td>1</td>\n",
       "      <td>-4.413118</td>\n",
       "      <td>2.0</td>\n",
       "      <td>1.044844</td>\n",
       "      <td>0</td>\n",
       "      <td>4.635065</td>\n",
       "      <td>-1.462966</td>\n",
       "      <td>0</td>\n",
       "      <td>Not Available</td>\n",
       "      <td>Not Available</td>\n",
       "    </tr>\n",
       "    <tr>\n",
       "      <th>4</th>\n",
       "      <td>tm10</td>\n",
       "      <td>HALLMARK_EPITHELIAL_MESENCHYMAL_TRANSITION</td>\n",
       "      <td>BMP1</td>\n",
       "      <td>1.003535e-07</td>\n",
       "      <td>14.2645</td>\n",
       "      <td>-1.444291</td>\n",
       "      <td>0</td>\n",
       "      <td>-4.413118</td>\n",
       "      <td>1.0</td>\n",
       "      <td>1.044844</td>\n",
       "      <td>0</td>\n",
       "      <td>-0.458580</td>\n",
       "      <td>-1.462966</td>\n",
       "      <td>1</td>\n",
       "      <td>Not Available</td>\n",
       "      <td>Not Available</td>\n",
       "    </tr>\n",
       "    <tr>\n",
       "      <th>...</th>\n",
       "      <td>...</td>\n",
       "      <td>...</td>\n",
       "      <td>...</td>\n",
       "      <td>...</td>\n",
       "      <td>...</td>\n",
       "      <td>...</td>\n",
       "      <td>...</td>\n",
       "      <td>...</td>\n",
       "      <td>...</td>\n",
       "      <td>...</td>\n",
       "      <td>...</td>\n",
       "      <td>...</td>\n",
       "      <td>...</td>\n",
       "      <td>...</td>\n",
       "      <td>...</td>\n",
       "      <td>...</td>\n",
       "    </tr>\n",
       "    <tr>\n",
       "      <th>5905</th>\n",
       "      <td>tm9</td>\n",
       "      <td>HALLMARK_E2F_TARGETS</td>\n",
       "      <td>TK1</td>\n",
       "      <td>8.751049e-05</td>\n",
       "      <td>36.5019</td>\n",
       "      <td>-2.746486</td>\n",
       "      <td>1</td>\n",
       "      <td>-2.396037</td>\n",
       "      <td>4.0</td>\n",
       "      <td>0.907893</td>\n",
       "      <td>0</td>\n",
       "      <td>2.063603</td>\n",
       "      <td>-0.815337</td>\n",
       "      <td>1</td>\n",
       "      <td>Not Available</td>\n",
       "      <td>Not Available</td>\n",
       "    </tr>\n",
       "    <tr>\n",
       "      <th>5906</th>\n",
       "      <td>tm9</td>\n",
       "      <td>HALLMARK_E2F_TARGETS</td>\n",
       "      <td>TRIP13</td>\n",
       "      <td>8.751049e-05</td>\n",
       "      <td>5.8896</td>\n",
       "      <td>-2.746486</td>\n",
       "      <td>1</td>\n",
       "      <td>-2.396037</td>\n",
       "      <td>5.0</td>\n",
       "      <td>0.907893</td>\n",
       "      <td>1</td>\n",
       "      <td>1.140923</td>\n",
       "      <td>-0.815337</td>\n",
       "      <td>1</td>\n",
       "      <td>Not Available</td>\n",
       "      <td>Not Available</td>\n",
       "    </tr>\n",
       "    <tr>\n",
       "      <th>5907</th>\n",
       "      <td>tm9</td>\n",
       "      <td>HALLMARK_E2F_TARGETS</td>\n",
       "      <td>TUBB</td>\n",
       "      <td>8.751049e-05</td>\n",
       "      <td>246.6469</td>\n",
       "      <td>-2.746486</td>\n",
       "      <td>1</td>\n",
       "      <td>-2.396037</td>\n",
       "      <td>4.0</td>\n",
       "      <td>0.907893</td>\n",
       "      <td>0</td>\n",
       "      <td>-3.351630</td>\n",
       "      <td>-0.815337</td>\n",
       "      <td>0</td>\n",
       "      <td>Not Available</td>\n",
       "      <td>Not Available</td>\n",
       "    </tr>\n",
       "    <tr>\n",
       "      <th>5908</th>\n",
       "      <td>tm9</td>\n",
       "      <td>HALLMARK_E2F_TARGETS</td>\n",
       "      <td>TUBG1</td>\n",
       "      <td>8.751049e-05</td>\n",
       "      <td>41.8921</td>\n",
       "      <td>-2.746486</td>\n",
       "      <td>0</td>\n",
       "      <td>-2.396037</td>\n",
       "      <td>4.0</td>\n",
       "      <td>0.907893</td>\n",
       "      <td>0</td>\n",
       "      <td>2.452705</td>\n",
       "      <td>-0.815337</td>\n",
       "      <td>0</td>\n",
       "      <td>Not Available</td>\n",
       "      <td>Not Available</td>\n",
       "    </tr>\n",
       "    <tr>\n",
       "      <th>5909</th>\n",
       "      <td>tm9</td>\n",
       "      <td>HALLMARK_E2F_TARGETS</td>\n",
       "      <td>WDR90</td>\n",
       "      <td>8.751049e-05</td>\n",
       "      <td>25.8437</td>\n",
       "      <td>-2.746486</td>\n",
       "      <td>0</td>\n",
       "      <td>-2.396037</td>\n",
       "      <td>4.0</td>\n",
       "      <td>0.907893</td>\n",
       "      <td>0</td>\n",
       "      <td>4.699155</td>\n",
       "      <td>-0.815337</td>\n",
       "      <td>0</td>\n",
       "      <td>Not Available</td>\n",
       "      <td>Not Available</td>\n",
       "    </tr>\n",
       "  </tbody>\n",
       "</table>\n",
       "<p>5910 rows × 16 columns</p>\n",
       "</div>"
      ],
      "text/plain": [
       "     sample_name                                        Term gene_name  \\\n",
       "0           tm10  HALLMARK_EPITHELIAL_MESENCHYMAL_TRANSITION    ABI3BP   \n",
       "1           tm10  HALLMARK_EPITHELIAL_MESENCHYMAL_TRANSITION     ANPEP   \n",
       "2           tm10  HALLMARK_EPITHELIAL_MESENCHYMAL_TRANSITION      AREG   \n",
       "3           tm10  HALLMARK_EPITHELIAL_MESENCHYMAL_TRANSITION     BASP1   \n",
       "4           tm10  HALLMARK_EPITHELIAL_MESENCHYMAL_TRANSITION      BMP1   \n",
       "...          ...                                         ...       ...   \n",
       "5905         tm9                        HALLMARK_E2F_TARGETS       TK1   \n",
       "5906         tm9                        HALLMARK_E2F_TARGETS    TRIP13   \n",
       "5907         tm9                        HALLMARK_E2F_TARGETS      TUBB   \n",
       "5908         tm9                        HALLMARK_E2F_TARGETS     TUBG1   \n",
       "5909         tm9                        HALLMARK_E2F_TARGETS     WDR90   \n",
       "\n",
       "               fdr  rna_value   rna_nes  rna_tag      mpes  cnv_value  \\\n",
       "0     1.003535e-07     0.4820 -1.444291        1 -4.413118        2.0   \n",
       "1     1.003535e-07     3.9514 -1.444291        1 -4.413118        2.0   \n",
       "2     1.003535e-07   565.3915 -1.444291        0 -4.413118        2.0   \n",
       "3     1.003535e-07     6.3844 -1.444291        1 -4.413118        2.0   \n",
       "4     1.003535e-07    14.2645 -1.444291        0 -4.413118        1.0   \n",
       "...            ...        ...       ...      ...       ...        ...   \n",
       "5905  8.751049e-05    36.5019 -2.746486        1 -2.396037        4.0   \n",
       "5906  8.751049e-05     5.8896 -2.746486        1 -2.396037        5.0   \n",
       "5907  8.751049e-05   246.6469 -2.746486        1 -2.396037        4.0   \n",
       "5908  8.751049e-05    41.8921 -2.746486        0 -2.396037        4.0   \n",
       "5909  8.751049e-05    25.8437 -2.746486        0 -2.396037        4.0   \n",
       "\n",
       "       cnv_nes  cnv_tag  dna_value   dna_nes  dna_tag    cancer_type  \\\n",
       "0     1.044844        0   3.726889 -1.462966        1  Not Available   \n",
       "1     1.044844        0   1.039212 -1.462966        0  Not Available   \n",
       "2     1.044844        0  -0.759412 -1.462966        1  Not Available   \n",
       "3     1.044844        0   4.635065 -1.462966        0  Not Available   \n",
       "4     1.044844        0  -0.458580 -1.462966        1  Not Available   \n",
       "...        ...      ...        ...       ...      ...            ...   \n",
       "5905  0.907893        0   2.063603 -0.815337        1  Not Available   \n",
       "5906  0.907893        1   1.140923 -0.815337        1  Not Available   \n",
       "5907  0.907893        0  -3.351630 -0.815337        0  Not Available   \n",
       "5908  0.907893        0   2.452705 -0.815337        0  Not Available   \n",
       "5909  0.907893        0   4.699155 -0.815337        0  Not Available   \n",
       "\n",
       "     ajcc_pathologic_stage  \n",
       "0            Not Available  \n",
       "1            Not Available  \n",
       "2            Not Available  \n",
       "3            Not Available  \n",
       "4            Not Available  \n",
       "...                    ...  \n",
       "5905         Not Available  \n",
       "5906         Not Available  \n",
       "5907         Not Available  \n",
       "5908         Not Available  \n",
       "5909         Not Available  \n",
       "\n",
       "[5910 rows x 16 columns]"
      ]
     },
     "execution_count": 25,
     "metadata": {},
     "output_type": "execute_result"
    }
   ],
   "source": [
    "tmas # see dataframe structure"
   ]
  }
 ],
 "metadata": {
  "kernelspec": {
   "display_name": "nssIMGSEA",
   "language": "python",
   "name": "python3"
  },
  "language_info": {
   "codemirror_mode": {
    "name": "ipython",
    "version": 3
   },
   "file_extension": ".py",
   "mimetype": "text/x-python",
   "name": "python",
   "nbconvert_exporter": "python",
   "pygments_lexer": "ipython3",
   "version": "3.11.11"
  }
 },
 "nbformat": 4,
 "nbformat_minor": 2
}
